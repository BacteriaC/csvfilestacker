{
 "cells": [
  {
   "cell_type": "code",
   "execution_count": null,
   "metadata": {},
   "outputs": [],
   "source": [
    "# This is a program to stack csv data files\n",
    "\n",
    "import pandas as pd\n",
    "import numpy as np\n",
    "import pickle\n",
    "import matplotlib.pyplot as plt\n",
    "from scipy import stats\n",
    "import tensorflow as tf\n",
    "import seaborn as sns\n",
    "from pylab import rcParams\n",
    "from sklearn import metrics\n",
    "from sklearn.model_selection import train_test_split\n",
    "\n",
    "# Data importing\n",
    "sns.set(style='whitegrid', palette='muted', font_scale=1.5)\n",
    "\n",
    "rcParams['figure.figsize'] = 14, 8\n",
    "\n",
    "RANDOM_SEED = 42\n",
    "\n",
    "# Path define\n",
    "loadPath = '/Users/jenieshen/Study/Data/stacker/subfile'\n",
    "savePath = '/Users/jenieshen/Study/Data/stacker/'\n",
    "\n",
    "# Define columns here\n",
    "columns = ['ACC_X','ACC_Y','ACC_Z', 'GYR_X', 'GYR_Y', 'GYR_Z', 'TSS', 'TD', 'LB', 'ACT']"
   ]
  },
  {
   "cell_type": "code",
   "execution_count": null,
   "metadata": {},
   "outputs": [],
   "source": [
    "# scan all files in the directory which extension is csv\n",
    "import glob, os\n",
    "\n",
    "os.chdir(loadPath)\n",
    "for file in glob.glob(\"*.csv\"):\n",
    "    print(file)"
   ]
  },
  {
   "cell_type": "code",
   "execution_count": null,
   "metadata": {},
   "outputs": [],
   "source": [
    "# or you can store all the file names into a list\n",
    "dirListing = os.listdir(loadPath)\n",
    "csvFiles = []\n",
    "csvPath = []\n",
    "for i in dirListing:\n",
    "    if \".csv\" in i:\n",
    "        csvFiles.append(i)\n",
    "        csvPath.append(path + '/' + i)\n",
    "print (csvPath)\n",
    "print (csvFiles)"
   ]
  },
  {
   "cell_type": "code",
   "execution_count": null,
   "metadata": {},
   "outputs": [],
   "source": [
    "# Let's stack the files into the main.csv\n",
    "import random, string\n",
    "import pandas as pd\n",
    "\n",
    "dfListing = []\n",
    "\n",
    "# More detailed reason please refer to this link https://stackoverflow.com/questions/30635145/create-multiple-dataframes-in-loop\n",
    "for j in csvFiles:\n",
    "    suffix = ''.join(random.choice(string.ascii_lowercase) for _ in range(5))\n",
    "    # dfname = 'df_' + suffix\n",
    "    dfname = suffix\n",
    "    dfListing.append(dfname)\n",
    "print (dfListing)\n",
    "\n",
    "d = {}\n",
    "for name in dfListing:\n",
    "    for x in csvPath:\n",
    "        d[name] = pd.read_csv(x, header = None, names = columns)\n",
    "        d[name] = d[name].iloc[1:]  # to delete the first row of column name, purpose of changing type\n",
    "        d[name] = d[name].dropna()\n",
    "        csvPath.remove(x)\n",
    "        break\n",
    "    print(name)\n",
    "    \n",
    "# If you want to call the dataframe in dict, use d['name'], '' is mandatory\n",
    "\n",
    "# print (csvPath)"
   ]
  },
  {
   "cell_type": "code",
   "execution_count": null,
   "metadata": {},
   "outputs": [],
   "source": [
    "type(d[name])"
   ]
  },
  {
   "cell_type": "code",
   "execution_count": null,
   "metadata": {},
   "outputs": [],
   "source": [
    "# Create a new dataframe and stack all the dataframes in dictionary d\n",
    "\n",
    "dfmain = pd.concat(d)\n",
    "dfmain = dfmain.iloc[:, :]  # delete the column or row you want\n",
    "\n",
    "print(dfmain)"
   ]
  },
  {
   "cell_type": "code",
   "execution_count": null,
   "metadata": {},
   "outputs": [],
   "source": [
    "# Write the dataframe to csv\n",
    "fileName = savePath + 'main.csv'\n",
    "dfmain.to_csv(fileName, encoding='utf-8', index=False)  # avoid saving with index\n",
    "d.clear()  # release the dictionary d"
   ]
  },
  {
   "cell_type": "code",
   "execution_count": null,
   "metadata": {},
   "outputs": [],
   "source": []
  }
 ],
 "metadata": {
  "kernelspec": {
   "display_name": "Python 3",
   "language": "python",
   "name": "python3"
  },
  "language_info": {
   "codemirror_mode": {
    "name": "ipython",
    "version": 3
   },
   "file_extension": ".py",
   "mimetype": "text/x-python",
   "name": "python",
   "nbconvert_exporter": "python",
   "pygments_lexer": "ipython3",
   "version": "3.6.4"
  }
 },
 "nbformat": 4,
 "nbformat_minor": 2
}

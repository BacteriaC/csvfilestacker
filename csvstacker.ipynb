{
 "cells": [
  {
   "cell_type": "code",
   "execution_count": 194,
   "metadata": {},
   "outputs": [],
   "source": [
    "# This is a program to stack csv data files\n",
    "\n",
    "import pandas as pd\n",
    "import numpy as np\n",
    "import pickle\n",
    "import matplotlib.pyplot as plt\n",
    "from scipy import stats\n",
    "import tensorflow as tf\n",
    "import seaborn as sns\n",
    "from pylab import rcParams\n",
    "from sklearn import metrics\n",
    "from sklearn.model_selection import train_test_split\n",
    "\n",
    "# Data importing\n",
    "sns.set(style='whitegrid', palette='muted', font_scale=1.5)\n",
    "\n",
    "rcParams['figure.figsize'] = 14, 8\n",
    "\n",
    "RANDOM_SEED = 42\n",
    "\n",
    "# Path define\n",
    "loadPath = '/Users/jenieshen/Study/Data/stacker/subfile'\n",
    "savePath = '/Users/jenieshen/Study/Data/stacker/'\n",
    "\n",
    "# Define columns here\n",
    "columns = ['ACC_X','ACC_Y','ACC_Z', 'GYR_X', 'GYR_Y', 'GYR_Z', 'TSS', 'TD', 'LB', 'ACT']"
   ]
  },
  {
   "cell_type": "code",
   "execution_count": 195,
   "metadata": {},
   "outputs": [
    {
     "name": "stdout",
     "output_type": "stream",
     "text": [
      "1.csv\n",
      "2.csv\n"
     ]
    }
   ],
   "source": [
    "# scan all files in the directory which extension is csv\n",
    "import glob, os\n",
    "\n",
    "os.chdir(loadPath)\n",
    "for file in glob.glob(\"*.csv\"):\n",
    "    print(file)"
   ]
  },
  {
   "cell_type": "code",
   "execution_count": 196,
   "metadata": {},
   "outputs": [
    {
     "name": "stdout",
     "output_type": "stream",
     "text": [
      "['/Users/jenieshen/Study/Data/stacker/subfile/1.csv', '/Users/jenieshen/Study/Data/stacker/subfile/2.csv']\n",
      "['1.csv', '2.csv']\n"
     ]
    }
   ],
   "source": [
    "# or you can store all the file names into a list\n",
    "dirListing = os.listdir(loadPath)\n",
    "csvFiles = []\n",
    "csvPath = []\n",
    "for i in dirListing:\n",
    "    if \".csv\" in i:\n",
    "        csvFiles.append(i)\n",
    "        csvPath.append(path + '/' + i)\n",
    "print (csvPath)\n",
    "print (csvFiles)"
   ]
  },
  {
   "cell_type": "code",
   "execution_count": 197,
   "metadata": {},
   "outputs": [
    {
     "name": "stdout",
     "output_type": "stream",
     "text": [
      "['lcvem', 'poibc']\n",
      "lcvem\n",
      "poibc\n"
     ]
    }
   ],
   "source": [
    "# Let's stack the files into the main.csv\n",
    "import random, string\n",
    "import pandas as pd\n",
    "\n",
    "dfListing = []\n",
    "\n",
    "# More detailed reason please refer to this link https://stackoverflow.com/questions/30635145/create-multiple-dataframes-in-loop\n",
    "for j in csvFiles:\n",
    "    suffix = ''.join(random.choice(string.ascii_lowercase) for _ in range(5))\n",
    "    # dfname = 'df_' + suffix\n",
    "    dfname = suffix\n",
    "    dfListing.append(dfname)\n",
    "print (dfListing)\n",
    "\n",
    "d = {}\n",
    "for name in dfListing:\n",
    "    for x in csvPath:\n",
    "        d[name] = pd.read_csv(x, header = None, names = columns)\n",
    "        d[name] = d[name].iloc[1:]  # to delete the first row of column name, purpose of changing type\n",
    "        d[name] = d[name].dropna()\n",
    "        csvPath.remove(x)\n",
    "        break\n",
    "    print(name)\n",
    "    \n",
    "# If you want to call the dataframe in dict, use d['name'], '' is mandatory\n",
    "\n",
    "# print (csvPath)"
   ]
  },
  {
   "cell_type": "code",
   "execution_count": 198,
   "metadata": {},
   "outputs": [
    {
     "data": {
      "text/plain": [
       "pandas.core.frame.DataFrame"
      ]
     },
     "execution_count": 198,
     "metadata": {},
     "output_type": "execute_result"
    }
   ],
   "source": [
    "type(d[name])"
   ]
  },
  {
   "cell_type": "code",
   "execution_count": 199,
   "metadata": {},
   "outputs": [
    {
     "name": "stdout",
     "output_type": "stream",
     "text": [
      "               ACC_X      ACC_Y     ACC_Z      GYR_X      GYR_Y      GYR_Z  \\\n",
      "lcvem 1    -7.789749  -0.470718  7.410568  -0.001217   0.004416   0.016643   \n",
      "      2    -8.077408   0.209213   7.86821   0.001313   0.003675   0.011668   \n",
      "      3    -7.580536   0.876068  7.959732   0.002127   0.001974   0.008535   \n",
      "      4    -5.933029   2.405899   7.82898   0.014561   0.001605  -0.001012   \n",
      "      5    -4.965439   2.915848  7.894348    0.01543  -0.002151   0.002248   \n",
      "      6     -3.12178   3.922653  7.815903   0.048984  -0.025045   0.021805   \n",
      "      7    -1.605026   4.171097  8.286621   0.084054  -0.048729   0.037325   \n",
      "      8     -1.26506   4.131867  8.443528   0.136049  -0.093782   0.040898   \n",
      "      9    -0.428223   4.393387   8.75734   0.176548  -0.122381   0.023162   \n",
      "      10   -0.088257   4.628739  9.241136   0.238311  -0.194904   0.010926   \n",
      "      11    0.408615   4.798722  9.031922   0.257905  -0.224332   0.007752   \n",
      "      12    1.350052   4.667969  8.770416   0.295394  -0.288381   0.003832   \n",
      "      13    1.768463   4.576447  8.312775   0.321958  -0.327912   -0.01315   \n",
      "      14    2.265335   4.406464  8.456604   0.339978  -0.385524  -0.025274   \n",
      "      15    2.762207   4.537216  8.338928   0.343505  -0.418178  -0.017439   \n",
      "      16    3.272156   4.681046  8.247391   0.365585  -0.490484  -0.045332   \n",
      "      17    3.455216   4.694123  8.012039   0.361063  -0.518951  -0.026211   \n",
      "      18    3.703644   4.615662  7.724365   0.341576  -0.563653   0.028722   \n",
      "      19    4.108994   4.720261  7.776673   0.331143  -0.585317    0.06143   \n",
      "      20    4.122055   4.654892  7.920502   0.302045  -0.611123   0.105224   \n",
      "      21    4.265885   4.772568   7.68515   0.282259  -0.614108   0.089118   \n",
      "      22    4.370499   4.720276  7.593613   0.240155   -0.60091   0.069817   \n",
      "      23    4.396652   4.759491  7.580536   0.219163  -0.585603   0.082483   \n",
      "      24    4.383576   4.837952   7.60669   0.180289  -0.544921   0.097758   \n",
      "      25    4.357422   4.851029  7.580551   0.162844  -0.524194   0.097453   \n",
      "      26    4.331269   4.824875  7.515167   0.134006   -0.47287   0.104428   \n",
      "      27      4.2659   4.837952  7.358261   0.124035  -0.447366   0.106956   \n",
      "      28    4.017456   4.667969  7.489014   0.114564  -0.394943    0.12283   \n",
      "      29    3.755951   4.615662  7.658997   0.114325  -0.363689   0.135607   \n",
      "      30    3.036789   4.537216  7.920502   0.115127  -0.299294   0.157536   \n",
      "...              ...        ...       ...        ...        ...        ...   \n",
      "poibc 14    2.827576   5.387116  7.489014   0.199861  -0.493604   0.080606   \n",
      "      15    3.128327    5.23021  7.528244   0.214012  -0.538203   0.069954   \n",
      "      16    3.585968    5.30867  7.515167   0.205314  -0.598134   0.088109   \n",
      "      17    3.651337   5.334824  7.580536   0.196302  -0.621335   0.106293   \n",
      "      18    3.533661    5.26944  7.672074   0.163787   -0.65044   0.175262   \n",
      "      19    3.625183    5.23021  7.763596   0.143998  -0.655303   0.219904   \n",
      "      20    3.481354   5.243286  7.763596   0.106849  -0.638824   0.304199   \n",
      "      21    3.324448   5.217148   7.60669   0.091327  -0.619232   0.338428   \n",
      "      22    3.193695   5.138687  7.528244    0.07301   -0.58284   0.331194   \n",
      "      23    2.840653   5.177918  7.672074   0.064304  -0.545072   0.342054   \n",
      "      24    2.199967   5.177918  7.724365   0.053873  -0.468045   0.353873   \n",
      "      25    1.768463   5.151764  8.051255   0.050631  -0.425228   0.349937   \n",
      "      26     0.59166   5.177918  8.338928   0.046626  -0.335103   0.333001   \n",
      "      27   -0.702805   5.112534  8.521974   0.044683  -0.292084   0.317527   \n",
      "      28     -1.1866   5.099457  8.247391   0.033125  -0.232704   0.240784   \n",
      "      29    -2.41571   4.746414  7.593613   0.036607  -0.180498   0.249733   \n",
      "      30   -4.860824    4.15802  6.704483    0.05485   0.026347   0.343254   \n",
      "      31   -6.678329   3.582703  6.429886   0.033814   0.089932   0.264554   \n",
      "      32   -8.718108   2.706635  5.972245   0.011757   0.205414   0.190908   \n",
      "      33   -9.424194   2.105164  5.266175  -0.008081   0.252124   0.113712   \n",
      "      34  -10.156418     2.3013  5.540756  -0.037892   0.342942  -0.016095   \n",
      "      35     -8.0251     2.3013  4.913132  -0.047686   0.386348  -0.080011   \n",
      "      36   -8.888092   2.314377  4.612396  -0.062071   0.474667  -0.136122   \n",
      "      37    -8.61351   2.327454  4.664704  -0.068358   0.512514  -0.163571   \n",
      "      38   -8.443526   2.418976  4.651627   -0.07847   0.567739  -0.212573   \n",
      "      39   -8.508896    2.44513  4.612396  -0.082648   0.587971  -0.229243   \n",
      "      40    -8.57428   2.379746  4.612396  -0.087083   0.613756  -0.260871   \n",
      "      41   -8.443526   2.536652  4.769303  -0.084417   0.614398  -0.278024   \n",
      "      42   -8.521972   2.536652  4.716995  -0.059802   0.593103  -0.318696   \n",
      "      43   -8.456604   2.458206  4.520859  -0.051864   0.579302  -0.322356   \n",
      "\n",
      "           TSS                       TD        LB ACT  \n",
      "lcvem 1     23  2018-03-05 21:46:37:234  DRINKING   1  \n",
      "      2    115  2018-03-05 21:46:37:326  DRINKING   1  \n",
      "      3    215  2018-03-05 21:46:37:426  DRINKING   1  \n",
      "      4    315  2018-03-05 21:46:37:526  DRINKING   1  \n",
      "      5    415  2018-03-05 21:46:37:626  DRINKING   1  \n",
      "      6    516  2018-03-05 21:46:37:727  DRINKING   1  \n",
      "      7    616  2018-03-05 21:46:37:827  DRINKING   1  \n",
      "      8    715  2018-03-05 21:46:37:926  DRINKING   1  \n",
      "      9    816  2018-03-05 21:46:38:027  DRINKING   1  \n",
      "      10   916  2018-03-05 21:46:38:127  DRINKING   1  \n",
      "      11  1016  2018-03-05 21:46:38:227  DRINKING   1  \n",
      "      12  1115  2018-03-05 21:46:38:326  DRINKING   1  \n",
      "      13  1215  2018-03-05 21:46:38:426  DRINKING   1  \n",
      "      14  1315  2018-03-05 21:46:38:526  DRINKING   1  \n",
      "      15  1415  2018-03-05 21:46:38:626  DRINKING   1  \n",
      "      16  1515  2018-03-05 21:46:38:726  DRINKING   1  \n",
      "      17  1615  2018-03-05 21:46:38:826  DRINKING   1  \n",
      "      18  1716  2018-03-05 21:46:38:927  DRINKING   1  \n",
      "      19  1816  2018-03-05 21:46:39:027  DRINKING   1  \n",
      "      20  1916  2018-03-05 21:46:39:127  DRINKING   1  \n",
      "      21  2016  2018-03-05 21:46:39:227  DRINKING   1  \n",
      "      22  2116  2018-03-05 21:46:39:327  DRINKING   1  \n",
      "      23  2216  2018-03-05 21:46:39:427  DRINKING   1  \n",
      "      24  2316  2018-03-05 21:46:39:527  DRINKING   1  \n",
      "      25  2415  2018-03-05 21:46:39:626  DRINKING   1  \n",
      "      26  2516  2018-03-05 21:46:39:727  DRINKING   1  \n",
      "      27  2616  2018-03-05 21:46:39:827  DRINKING   1  \n",
      "      28  2716  2018-03-05 21:46:39:927  DRINKING   1  \n",
      "      29  2815  2018-03-05 21:46:40:026  DRINKING   1  \n",
      "      30  2915  2018-03-05 21:46:40:126  DRINKING   1  \n",
      "...        ...                      ...       ...  ..  \n",
      "poibc 14  1306  2018-03-05 21:46:45:385  DRINKING   2  \n",
      "      15  1406  2018-03-05 21:46:45:485  DRINKING   2  \n",
      "      16  1506  2018-03-05 21:46:45:585  DRINKING   2  \n",
      "      17  1605  2018-03-05 21:46:45:684  DRINKING   2  \n",
      "      18  1706  2018-03-05 21:46:45:785  DRINKING   2  \n",
      "      19  1806  2018-03-05 21:46:45:885  DRINKING   2  \n",
      "      20  1905  2018-03-05 21:46:45:984  DRINKING   2  \n",
      "      21  2005  2018-03-05 21:46:46:084  DRINKING   2  \n",
      "      22  2106  2018-03-05 21:46:46:185  DRINKING   2  \n",
      "      23  2206  2018-03-05 21:46:46:285  DRINKING   2  \n",
      "      24  2306  2018-03-05 21:46:46:385  DRINKING   2  \n",
      "      25  2405  2018-03-05 21:46:46:484  DRINKING   2  \n",
      "      26  2505  2018-03-05 21:46:46:584  DRINKING   2  \n",
      "      27  2605  2018-03-05 21:46:46:684  DRINKING   2  \n",
      "      28  2705  2018-03-05 21:46:46:784  DRINKING   2  \n",
      "      29  2806  2018-03-05 21:46:46:885  DRINKING   2  \n",
      "      30  2906  2018-03-05 21:46:46:985  DRINKING   2  \n",
      "      31  3006  2018-03-05 21:46:47:085  DRINKING   2  \n",
      "      32  3105  2018-03-05 21:46:47:184  DRINKING   2  \n",
      "      33  3205  2018-03-05 21:46:47:284  DRINKING   2  \n",
      "      34  3305  2018-03-05 21:46:47:384  DRINKING   2  \n",
      "      35  3405  2018-03-05 21:46:47:484  DRINKING   2  \n",
      "      36  3505  2018-03-05 21:46:47:584  DRINKING   2  \n",
      "      37  3605  2018-03-05 21:46:47:684  DRINKING   2  \n",
      "      38  3705  2018-03-05 21:46:47:784  DRINKING   2  \n",
      "      39  3805  2018-03-05 21:46:47:884  DRINKING   2  \n",
      "      40  3905  2018-03-05 21:46:47:984  DRINKING   2  \n",
      "      41  4006  2018-03-05 21:46:48:085  DRINKING   2  \n",
      "      42  4106  2018-03-05 21:46:48:185  DRINKING   2  \n",
      "      43  4206  2018-03-05 21:46:48:285  DRINKING   2  \n",
      "\n",
      "[94 rows x 10 columns]\n"
     ]
    }
   ],
   "source": [
    "# Create a new dataframe and stack all the dataframes in dictionary d\n",
    "\n",
    "dfmain = pd.concat(d)\n",
    "dfmain = dfmain.iloc[:, :]  # delete the column or row you want\n",
    "\n",
    "print(dfmain)"
   ]
  },
  {
   "cell_type": "code",
   "execution_count": 200,
   "metadata": {},
   "outputs": [],
   "source": [
    "# Write the dataframe to csv\n",
    "fileName = savePath + 'main.csv'\n",
    "dfmain.to_csv(fileName, encoding='utf-8', index=False)  # avoid saving with index\n",
    "d.clear()  # release the dictionary d"
   ]
  },
  {
   "cell_type": "code",
   "execution_count": null,
   "metadata": {},
   "outputs": [],
   "source": []
  }
 ],
 "metadata": {
  "kernelspec": {
   "display_name": "Python 3",
   "language": "python",
   "name": "python3"
  },
  "language_info": {
   "codemirror_mode": {
    "name": "ipython",
    "version": 3
   },
   "file_extension": ".py",
   "mimetype": "text/x-python",
   "name": "python",
   "nbconvert_exporter": "python",
   "pygments_lexer": "ipython3",
   "version": "3.6.4"
  }
 },
 "nbformat": 4,
 "nbformat_minor": 2
}
